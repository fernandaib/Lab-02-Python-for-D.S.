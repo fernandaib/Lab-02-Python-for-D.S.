{
 "cells": [
  {
   "cell_type": "markdown",
   "id": "9a23c9fc",
   "metadata": {},
   "source": [
    "# FERNANDA IDARRAGA - COMP663 | Fall 2022"
   ]
  },
  {
   "cell_type": "markdown",
   "id": "6ac2700a",
   "metadata": {},
   "source": [
    "# LAB 2 - Descriptive Statistics"
   ]
  },
  {
   "cell_type": "markdown",
   "id": "08e713f0",
   "metadata": {},
   "source": [
    "# Question #1 - Measures of Center"
   ]
  },
  {
   "cell_type": "code",
   "execution_count": 1,
   "id": "fefda7f8",
   "metadata": {},
   "outputs": [],
   "source": [
    "import pandas as pd\n",
    "\n",
    "df = pd.read_csv('mtcars.csv') # read in the file mtcars.csv\n",
    "#display(df.head(10))"
   ]
  },
  {
   "cell_type": "code",
   "execution_count": 2,
   "id": "2992bf1e",
   "metadata": {},
   "outputs": [],
   "source": [
    "# mean = # find the mean of the column wt\n",
    "wtMean=df[['wt']].mean()\n",
    "#print(wtMean)"
   ]
  },
  {
   "cell_type": "code",
   "execution_count": 3,
   "id": "69363ef4",
   "metadata": {},
   "outputs": [],
   "source": [
    "# median = # find the median of the column wt\n",
    "wtMedian=df[['wt']].median()\n",
    "#print(wtMedian)"
   ]
  },
  {
   "cell_type": "code",
   "execution_count": 4,
   "id": "eca776db",
   "metadata": {},
   "outputs": [],
   "source": [
    "# mode = # find the mode of the column wt\n",
    "wtMode=df['wt'].mode()\n",
    "#print(wtMode)"
   ]
  },
  {
   "cell_type": "code",
   "execution_count": 5,
   "id": "a309d3c0",
   "metadata": {},
   "outputs": [],
   "source": [
    "# print(\"mean = \", mean, \", median = \", median, \", mode = \", mode)"
   ]
  },
  {
   "cell_type": "code",
   "execution_count": 6,
   "id": "b2f7531a",
   "metadata": {},
   "outputs": [
    {
     "name": "stdout",
     "output_type": "stream",
     "text": [
      "mean=  3.21725\n",
      "media=  3.325\n",
      "mode=  0    3.44\n",
      "dtype: float64\n"
     ]
    }
   ],
   "source": [
    "print('mean= ',wtMean.to_string(index=False))\n",
    "print('media= ',wtMedian.to_string(index=False))\n",
    "print('mode= ',wtMode.to_string(dtype=True))"
   ]
  },
  {
   "cell_type": "markdown",
   "id": "2997d283",
   "metadata": {},
   "source": [
    "# Question #2 - Standard Deviation"
   ]
  },
  {
   "cell_type": "code",
   "execution_count": 7,
   "id": "c0cae8ec",
   "metadata": {},
   "outputs": [],
   "source": [
    "# Also import the scipy.stats module.\n",
    "import pandas as pd\n",
    "import scipy.stats as st\n",
    "\n",
    "'''Type your code here to load the csv file NBA2019.csv.'''\n",
    "NBA2019_df = pd.read_csv('NBA2019.csv') \n",
    "#display(NBA2019_df)"
   ]
  },
  {
   "cell_type": "code",
   "execution_count": 8,
   "id": "638fff30",
   "metadata": {},
   "outputs": [
    {
     "name": "stdin",
     "output_type": "stream",
     "text": [
      " PointsPerGame\n"
     ]
    }
   ],
   "source": [
    "# Input desired column. Ex: AGE, 2P%, or PointsPerGame.\n",
    "'''Complete input code here.'''\n",
    "chosen_column = input() #MinPerGame"
   ]
  },
  {
   "cell_type": "code",
   "execution_count": 9,
   "id": "5150368a",
   "metadata": {},
   "outputs": [],
   "source": [
    "# Create subset of NBA2019_df based on input.\n",
    "'''Type your code here to subset NBA2019_df based on the chosen column.'''\n",
    "NBA2019_df_column = NBA2019_df[[chosen_column]]\n",
    "#display(NBA2019_df_column)"
   ]
  },
  {
   "cell_type": "code",
   "execution_count": 10,
   "id": "f8980abb",
   "metadata": {},
   "outputs": [],
   "source": [
    "#print(type(NBA2019_df_column))"
   ]
  },
  {
   "cell_type": "code",
   "execution_count": 11,
   "id": "5c8454f1",
   "metadata": {},
   "outputs": [],
   "source": [
    "# Find standard deviation and round to two decimal places. \n",
    "sample_s = (st.tstd(NBA2019_df_column))[0]\n"
   ]
  },
  {
   "cell_type": "code",
   "execution_count": 12,
   "id": "aaafbc7c",
   "metadata": {},
   "outputs": [
    {
     "name": "stdout",
     "output_type": "stream",
     "text": [
      "2.772743149872234\n"
     ]
    }
   ],
   "source": [
    "#sample_s_rounded = round(2, sample_s) #The student has incorrectly used the round() function.\n",
    "print(sample_s)"
   ]
  },
  {
   "cell_type": "code",
   "execution_count": 13,
   "id": "a70cee6f",
   "metadata": {},
   "outputs": [
    {
     "name": "stdout",
     "output_type": "stream",
     "text": [
      "<class 'numpy.float64'>\n"
     ]
    }
   ],
   "source": [
    "print(type((sample_s)))"
   ]
  },
  {
   "cell_type": "code",
   "execution_count": 14,
   "id": "801939d3",
   "metadata": {},
   "outputs": [],
   "source": [
    "sample_s_rounded = round(sample_s,2)"
   ]
  },
  {
   "cell_type": "code",
   "execution_count": 15,
   "id": "4c102800",
   "metadata": {},
   "outputs": [
    {
     "name": "stdout",
     "output_type": "stream",
     "text": [
      "The standard deviation for PointsPerGame is 2.77\n"
     ]
    }
   ],
   "source": [
    "# Output\n",
    "'''Finish code for output here'''\n",
    "print('The standard deviation for',chosen_column, 'is', sample_s_rounded)"
   ]
  },
  {
   "cell_type": "markdown",
   "id": "05c83c70",
   "metadata": {},
   "source": [
    "# Question #3 - Five Number Summary"
   ]
  },
  {
   "cell_type": "code",
   "execution_count": 16,
   "id": "e3464a2a",
   "metadata": {
    "scrolled": true
   },
   "outputs": [],
   "source": [
    "import pandas as pd\n",
    "df = pd.read_csv(\"internetusage.csv\")\n",
    "#display(df.head())"
   ]
  },
  {
   "cell_type": "code",
   "execution_count": 17,
   "id": "db214d6d",
   "metadata": {},
   "outputs": [],
   "source": [
    "# subset the column internet_usage\n",
    "internet = df[['internet_usage']]\n",
    "#display(internet)"
   ]
  },
  {
   "cell_type": "code",
   "execution_count": 18,
   "id": "0a30d91f",
   "metadata": {},
   "outputs": [],
   "source": [
    "# find the five number summary\n",
    "five_num = df[['internet_usage']].describe()\n",
    "#display(five_num)"
   ]
  },
  {
   "cell_type": "code",
   "execution_count": 19,
   "id": "23892a3c",
   "metadata": {},
   "outputs": [
    {
     "name": "stdout",
     "output_type": "stream",
     "text": [
      "       internet_usage\n",
      "count       51.000000\n",
      "mean        73.747059\n",
      "std          6.304422\n",
      "min         56.600000\n",
      "25%         69.500000\n",
      "50%         75.000000\n",
      "75%         77.600000\n",
      "max         84.700000\n"
     ]
    }
   ],
   "source": [
    "print(five_num)"
   ]
  },
  {
   "cell_type": "code",
   "execution_count": 20,
   "id": "c7542a2b",
   "metadata": {},
   "outputs": [
    {
     "name": "stdout",
     "output_type": "stream",
     "text": [
      "([0], [Text(0, 0, '')])\n"
     ]
    },
    {
     "data": {
      "image/png": "[encoded data removed]",
      "text/plain": [
       "<Figure size 640x480 with 1 Axes>"
      ]
     },
     "metadata": {},
     "output_type": "display_data"
    }
   ],
   "source": [
    "#loads the necessary libraries\n",
    "import matplotlib.pyplot as plt\n",
    "import seaborn as sns\n",
    "import pandas as pd\n",
    "\n",
    "sns.set(style = 'whitegrid')\n",
    "sns.boxplot(internet.internet_usage, color='cyan', width = 0.6)\n",
    "#sns.stripplot(y=\"internet_usage\", color='deeppink',jitter=True,dodge=True, data = internet)\n",
    "\n",
    "\n",
    "#Title\n",
    "plt.title('Internet Usage in the US', fontsize=20)\n",
    "\n",
    "# ticks label\n",
    "print(plt.xticks())\n",
    "plt.xticks(([0]),[\"Internet Usage\"])\n",
    "\n",
    "# labels\n",
    "plt.xlabel(\" \")\n",
    "plt.ylabel(\" \")\n",
    "\n",
    "# saves the image\n",
    "plt.savefig(\"internet.png\")\n",
    "\n",
    "plt.show()"
   ]
  },
  {
   "cell_type": "markdown",
   "id": "895d6919",
   "metadata": {},
   "source": [
    "# Question #4 - Box Plots"
   ]
  },
  {
   "cell_type": "code",
   "execution_count": 21,
   "id": "0032e248",
   "metadata": {},
   "outputs": [],
   "source": [
    "# import the pandas module as pd\n",
    "import matplotlib.pyplot as plt\n",
    "import seaborn as sns\n",
    "import pandas as pd"
   ]
  },
  {
   "cell_type": "code",
   "execution_count": 22,
   "id": "b634b596",
   "metadata": {},
   "outputs": [],
   "source": [
    "# load internetusage.csv \n",
    "df = pd.read_csv(\"internetusage.csv\")\n",
    "#display(df)"
   ]
  },
  {
   "cell_type": "code",
   "execution_count": 23,
   "id": "62710afc",
   "metadata": {},
   "outputs": [],
   "source": [
    "# subset the State and Population columns\n",
    "population = df[['State','Population']]\n",
    "#display(population.head())"
   ]
  },
  {
   "cell_type": "code",
   "execution_count": 24,
   "id": "ad8a6789",
   "metadata": {},
   "outputs": [
    {
     "name": "stdin",
     "output_type": "stream",
     "text": [
      " 5\n"
     ]
    }
   ],
   "source": [
    "state_index = int(input())"
   ]
  },
  {
   "cell_type": "code",
   "execution_count": 25,
   "id": "09a522c4",
   "metadata": {},
   "outputs": [],
   "source": [
    "# subset the row given by state_index\n",
    "state_data = population.iloc[state_index]\n",
    "#display(state_data)\n",
    "#print(type(state_data))"
   ]
  },
  {
   "cell_type": "code",
   "execution_count": 26,
   "id": "4825b090",
   "metadata": {},
   "outputs": [],
   "source": [
    "state=population[population.index == state_index]"
   ]
  },
  {
   "cell_type": "code",
   "execution_count": 27,
   "id": "55e43478",
   "metadata": {},
   "outputs": [
    {
     "name": "stdout",
     "output_type": "stream",
     "text": [
      "The population of Colorado is 5047692.\n"
     ]
    },
    {
     "name": "stderr",
     "output_type": "stream",
     "text": [
      "C:\\Users\\Fernanda\\AppData\\Local\\Temp\\ipykernel_19156\\1735116481.py:1: FutureWarning: Series.__getitem__ treating keys as positions is deprecated. In a future version, integer keys will always be treated as labels (consistent with DataFrame behavior). To access a value by position, use `ser.iloc[pos]`\n",
      "  state_name = state.iloc[0][0]\n",
      "C:\\Users\\Fernanda\\AppData\\Local\\Temp\\ipykernel_19156\\1735116481.py:2: FutureWarning: Series.__getitem__ treating keys as positions is deprecated. In a future version, integer keys will always be treated as labels (consistent with DataFrame behavior). To access a value by position, use `ser.iloc[pos]`\n",
      "  state_pop = state.iloc[0][1]\n"
     ]
    }
   ],
   "source": [
    "state_name = state.iloc[0][0]\n",
    "state_pop = state.iloc[0][1]\n",
    "print(\"The population of \" + str(state_name) + \" is \" + str(state_pop)+ \".\")"
   ]
  },
  {
   "cell_type": "code",
   "execution_count": 28,
   "id": "fffbef35",
   "metadata": {},
   "outputs": [
    {
     "data": {
      "image/png": "[encoded data removed]",
      "text/plain": [
       "<Figure size 640x480 with 1 Axes>"
      ]
     },
     "metadata": {},
     "output_type": "display_data"
    }
   ],
   "source": [
    "#loads the necessary libraries\n",
    "import matplotlib.pyplot as plt\n",
    "import seaborn as sns\n",
    "import pandas as pd\n",
    "\n",
    "sns.set(style = 'whitegrid')\n",
    "#sns.stripplot(data=population, y=population['Population']/1E06, color='deeppink')\n",
    "sns.boxplot(data=population, y=population['Population']/1E06, color='lightskyblue')\n",
    "\n",
    "#Title\n",
    "plt.title('State Populations in the US', fontsize=20)\n",
    "\n",
    "# ticks label\n",
    "#print(plt.xticks())\n",
    "plt.xticks(([0]), ['Population'])\n",
    "#locs, labels = plt.xticks()\n",
    "#print(locs)\n",
    "\n",
    "\n",
    "# labels\n",
    "plt.xlabel(\" \")\n",
    "plt.ylabel(\"Millions \")\n",
    "\n",
    "# saves the image\n",
    "plt.savefig(\"population.png\")\n",
    "\n",
    "\n",
    "plt.show()"
   ]
  },
  {
   "cell_type": "code",
   "execution_count": null,
   "id": "b2be755d",
   "metadata": {},
   "outputs": [],
   "source": []
  }
 ],
 "metadata": {
  "kernelspec": {
   "display_name": "Python 3 (ipykernel)",
   "language": "python",
   "name": "python3"
  },
  "language_info": {
   "codemirror_mode": {
    "name": "ipython",
    "version": 3
   },
   "file_extension": ".py",
   "mimetype": "text/x-python",
   "name": "python",
   "nbconvert_exporter": "python",
   "pygments_lexer": "ipython3",
   "version": "3.12.2"
  }
 },
 "nbformat": 4,
 "nbformat_minor": 5
}
